{
  "cells": [
    {
      "cell_type": "markdown",
      "metadata": {
        "id": "cPv6GlBJky4_"
      },
      "source": [
        "# Startup Lending Model (Probabalistic Loan Pricing)"
      ]
    },
    {
      "cell_type": "markdown",
      "metadata": {
        "id": "DEs_8nukky5B"
      },
      "source": [
        "## Setup\n",
        "\n",
        "Setup for the later calculations are here. The necessary packages are imported."
      ]
    },
    {
      "cell_type": "code",
      "source": [
        "!pip install numpy_financial -q\n",
        "!pip install yfinance -q\n"
      ],
      "metadata": {
        "id": "GmQKlWpH_GU7"
      },
      "execution_count": 1,
      "outputs": []
    },
    {
      "cell_type": "code",
      "execution_count": 2,
      "metadata": {
        "id": "atgHvZXiky5C",
        "colab": {
          "base_uri": "https://localhost:8080/"
        },
        "outputId": "1223dd27-4597-4817-94fe-9bfb12bafbd5"
      },
      "outputs": [
        {
          "output_type": "stream",
          "name": "stderr",
          "text": [
            "/usr/local/lib/python3.10/dist-packages/yfinance/base.py:48: FutureWarning: The default dtype for empty Series will be 'object' instead of 'float64' in a future version. Specify a dtype explicitly to silence this warning.\n",
            "  _empty_series = pd.Series()\n"
          ]
        }
      ],
      "source": [
        "from dataclasses import dataclass\n",
        "import pandas as pd\n",
        "%matplotlib inline\n",
        "import numpy as np #supports large arrays\n",
        "import numpy_financial as npf\n",
        "import matplotlib.pyplot as plt #charts\n",
        "from tqdm.notebook import tqdm #progress bar\n",
        "import random #pseudo-random number generator\n",
        "import yfinance as yf #gets treasury bill rate for determining discount rate\n",
        "\n"
      ]
    },
    {
      "cell_type": "markdown",
      "metadata": {
        "id": "JAn0hlH9ky5D"
      },
      "source": [
        "## Inputs\n",
        "\n",
        "All of the inputs for the model are defined here. A class is constructed to manage the data, and an instance of the class containing the default inputs is created."
      ]
    },
    {
      "cell_type": "code",
      "execution_count": null,
      "metadata": {
        "id": "1YPpvtFrky5D",
        "outputId": "bd5469ad-36f0-4940-dfd0-59e6dd137baa",
        "colab": {
          "base_uri": "https://localhost:8080/"
        }
      },
      "outputs": [
        {
          "output_type": "execute_result",
          "data": {
            "text/plain": [
              "ModelInputs(price_machine=1000000, loan_life=55, initial_default=0.2, default_decay=0.9, final_default=0.4, recovery_rate=0.4, interest_rates=0.3, num_iterations=1000)"
            ]
          },
          "metadata": {},
          "execution_count": 3
        }
      ],
      "source": [
        "@dataclass\n",
        "class ModelInputs:\n",
        "    price_machine: float\n",
        "    loan_life: int\n",
        "    initial_default: float\n",
        "    default_decay: float\n",
        "    final_default: float\n",
        "    recovery_rate: float\n",
        "    interest_rates: float\n",
        "    num_iterations: int = 1000\n",
        "\n",
        "\n",
        "# setting defaults\n",
        "# Change the price of loan, default decay, final default, and recovery rate here. Oppurtunity to chaange interest rates and loan life later.\n",
        "model_data = ModelInputs(\n",
        "    price_machine = 1000000, #Set the price of loan\n",
        "    loan_life = 5,\n",
        "    initial_default = 0.2, #Set the initial rate of default\n",
        "    default_decay = 0.9, #Set the rate that chance of default decays\n",
        "    final_default = 0.4, #Set the chance of default when balloon payment becomes due\n",
        "    recovery_rate = 0.4, #Set the amount of loan principle that is recovered after default. Model assumes two years of no cash flows after default\n",
        "    interest_rates = 0.30,\n",
        ")\n",
        "\n",
        "model_data # prints initial data for testing"
      ]
    },
    {
      "cell_type": "markdown",
      "source": [
        "## Functions\n",
        "\n",
        "The necessary functions for calculating cash flows, default probability, and\n",
        "default year.\n",
        "\n",
        "Also contains the **main simulation function**."
      ],
      "metadata": {
        "id": "yP2V_cf92VDN"
      }
    },
    {
      "cell_type": "code",
      "source": [
        "def calculate_cash_flows(data, interest_rate, default_year):\n",
        "  cash_flows = [-data.price_machine] # initial outflow for the bank\n",
        "  for year in range(1, data.loan_life):\n",
        "    if year < default_year:\n",
        "      cash_flows.append(data.price_machine * interest_rate) #each years payment\n",
        "    elif year == default_year:\n",
        "        cash_flows.append(0) #returns nothing\n",
        "        break #exits the loop\n",
        "\n",
        "  #options where default does not occur within loan life\n",
        "  if default_year <= data.loan_life:\n",
        "    cash_flows.extend([0,0]) #adds two years of no cash flows for the bankruptcy period. Necessary for IRR calculation\n",
        "    cash_flows.append(data.recovery_rate * data.price_machine) #this is balloon payment\n",
        "\n",
        "  else:\n",
        "    cash_flows.append(data.price_machine * (1 + interest_rate)) #the balloon payment in final year if no default\n",
        "\n",
        "  return cash_flows\n",
        "\n",
        "example_cash_flows = calculate_cash_flows(model_data, 0.35, 4)\n",
        "\n",
        "example_cash_flows #Prints a sample of cash flows for testing"
      ],
      "metadata": {
        "id": "-4HoaLHwCvgP",
        "colab": {
          "base_uri": "https://localhost:8080/"
        },
        "outputId": "d7496eca-3cf8-4e86-9c81-3c44e2a50066"
      },
      "execution_count": null,
      "outputs": [
        {
          "output_type": "execute_result",
          "data": {
            "text/plain": [
              "[-1000000, 350000.0, 350000.0, 350000.0, 0, 0, 0, 400000.0]"
            ]
          },
          "metadata": {},
          "execution_count": 59
        }
      ]
    },
    {
      "cell_type": "code",
      "source": [
        "def default_probability_at_year(data, year):\n",
        "  \"\"\"\n",
        "  Calculates probability of default at a given year\n",
        "  \"\"\"\n",
        "\n",
        "  if year ==1:\n",
        "    return data.initial_default\n",
        "  elif year < data.loan_life:\n",
        "    return data.initial_default * (data.default_decay ** (year -1))\n",
        "  else:\n",
        "    return data.final_default\n",
        "\n",
        "\n",
        "def get_random_default_year(data): #introduced internal randomness. Most complex part of funciton\n",
        "  \"\"\"\n",
        "  Returns a random year of default\n",
        "  \"\"\"\n",
        "  probabilities = [default_probability_at_year(data, year) for year in range(1, data.loan_life + 1)]\n",
        "  probabilities.append(data.final_default) #final year default probability\n",
        "  cumulative_prob = np.cumsum(probabilities) #mock cdf\n",
        "  rand_val = random.uniform(0,1) #generates random float\n",
        "  #for loop to work through each year of loan\n",
        "  for year, cum_prob in enumerate(cumulative_prob, 1): #enumerate takes two values and compares them. 1 is year and 2 is cumulative probability\n",
        "      if rand_val <= cum_prob: #if random var is less than cum_prob of default\n",
        "        return int(year) #if the random variable is less than cumulative probability of default. This finds what year default happens in.\n",
        "  return int(data.loan_life) # indicates no default\n",
        "\n"
      ],
      "metadata": {
        "id": "6K32JeUKSlIo"
      },
      "execution_count": null,
      "outputs": []
    },
    {
      "cell_type": "code",
      "source": [
        "def simulate_loan_scenarios(data, interest_rates, loan_lives):\n",
        "  \"\"\"\n",
        "  Runs a simulation that calculate IRR for each combination of interest rates and loan lives\n",
        "  \"\"\"\n",
        "  scenarios_results = [] #initialize scenerio results\n",
        "  total_iterations = len(interest_rates) * len(loan_lives) * data.num_iterations #this allows you to change parameters and be more fluid. If you didn't want to change parameters you could just set total iterations to 27000\n",
        "  with tqdm(total=total_iterations, desc=\"Sumulating Loan Scenarios\") as pbar: #creates prorgress bar\n",
        "    for rate in interest_rates:\n",
        "      for life in loan_lives:\n",
        "        irrs = []\n",
        "        data.loan_life = life #updates loan life per scenario\n",
        "        for iteration in range(data.num_iterations):\n",
        "          data.initial_default = np.clip(np.random.normal(0.2, 0.05), 0, 1) #uses a normal distribution to determine probability of default\n",
        "          default_year = get_random_default_year(data)\n",
        "          cash_flows = calculate_cash_flows(data, rate, default_year)\n",
        "          try:\n",
        "            irr = npf.irr(cash_flows)\n",
        "            irrs.append(irr)\n",
        "          except:\n",
        "            pass # skip iterations where IRR cannot be calculated\n",
        "          finally:\n",
        "            pbar.update(1)\n",
        "\n",
        "          #Creates data frame for later use\n",
        "          scenarios_results.append({\n",
        "              'Interest Rate': rate,\n",
        "              'Loan Life': int(life),\n",
        "              'Expected IRR': irr,\n",
        "          })\n",
        "  return pd.DataFrame(scenarios_results)\n"
      ],
      "metadata": {
        "id": "h-gNf_OhVnPy"
      },
      "execution_count": null,
      "outputs": []
    },
    {
      "cell_type": "markdown",
      "source": [
        "## Inputs and Running the Simulation\n",
        "\n",
        "Run the simulation by entering a list of interest rates and list of loan lives seperated by commas.\n",
        "\n",
        "You may change the number of iterations if desired in the next cell. Low numbers will run faster. High numbers will be more accurate. Minimum of 1000 is recommended.\n"
      ],
      "metadata": {
        "id": "UTu3ym4z7OcP"
      }
    },
    {
      "cell_type": "code",
      "source": [
        "def get_interest_rates():\n",
        "    rates_str = input(\"Enter interest rates separated by commas (e.g., 0.30, 0.35, 0.40): \")\n",
        "    if not rates_str:\n",
        "      return [0.30, 0.35, 0.40]\n",
        "    else:\n",
        "      return [float(rate) for rate in rates_str.split(',')]\n",
        "\n",
        "def get_loan_lives():\n",
        "    lives_str = input(\"Enter loan lives separated by commas (e.g., 5, 10, 20): \")\n",
        "    if not lives_str:\n",
        "        return [5, 10, 20]\n",
        "    else:\n",
        "      return [int(life) for life in lives_str.split(',')]\n",
        "\n",
        "# Get user input for interest rates and loan lives\n",
        "\n",
        "interest_rates = get_interest_rates()\n",
        "loan_lives = get_loan_lives()"
      ],
      "metadata": {
        "id": "wyuYIqTzVaRI",
        "colab": {
          "base_uri": "https://localhost:8080/"
        },
        "outputId": "3a7a875b-cfbd-47e0-b4fd-e81da9ee6dd5"
      },
      "execution_count": null,
      "outputs": [
        {
          "name": "stdout",
          "output_type": "stream",
          "text": [
            "Enter interest rates separated by commas (e.g., 0.30, 0.35, 0.40): \n",
            "Enter loan lives separated by commas (e.g., 5, 10, 20): \n"
          ]
        }
      ]
    },
    {
      "cell_type": "code",
      "source": [
        "# Adjust the number of iterations. More iterations gives more accurate prediction.\n",
        "\n",
        "model_data.num_iterations = 1000 #reduce iterations for quicker execution\n"
      ],
      "metadata": {
        "id": "xEKEIgwXV1n9"
      },
      "execution_count": null,
      "outputs": []
    },
    {
      "cell_type": "code",
      "source": [
        "#Gets the five year treasury yield rate from yahoo finance\n",
        "five_year_treasury_yield = yf.download('^TNX', period='1mo')['Close'].iloc[-1]\n",
        "threshold = five_year_treasury_yield / 100 #calculate rate to be used for recommendation"
      ],
      "metadata": {
        "colab": {
          "base_uri": "https://localhost:8080/"
        },
        "id": "6RXHU7dZJaSB",
        "outputId": "d101c9ab-918e-439f-9bb4-3a7408ec1863"
      },
      "execution_count": null,
      "outputs": [
        {
          "output_type": "stream",
          "name": "stderr",
          "text": [
            "\r[*********************100%%**********************]  1 of 1 completed\n"
          ]
        }
      ]
    },
    {
      "cell_type": "code",
      "source": [
        "print(f\"The 5 year treasury yield is: {five_year_treasury_yield:.2f}\")"
      ],
      "metadata": {
        "colab": {
          "base_uri": "https://localhost:8080/"
        },
        "id": "_y8VrrvAJlb2",
        "outputId": "a8f9dd2d-7a33-41e9-a409-5bbee7cbb6a3"
      },
      "execution_count": null,
      "outputs": [
        {
          "output_type": "stream",
          "name": "stdout",
          "text": [
            "The 5 year treasury yield is: 4.28\n"
          ]
        }
      ]
    },
    {
      "cell_type": "markdown",
      "source": [
        "## Results\n",
        "\n",
        "Shows the simulation **results** and visualizations."
      ],
      "metadata": {
        "id": "6AMMRVr9Cyir"
      }
    },
    {
      "cell_type": "code",
      "source": [
        "df_discrete = simulate_loan_scenarios(model_data, interest_rates, loan_lives) #runs the main simulation for all scenerios\n",
        "\n",
        "def calculate_average_irr(scenarios_results):\n",
        "    \"\"\"\n",
        "    Calculate the average IRR for each scenario and return a DataFrame.\n",
        "    \"\"\"\n",
        "    avg_irr_results = []\n",
        "\n",
        "    # Group the scenarios by 'Interest Rate' and 'Loan Life'\n",
        "    grouped_scenarios = pd.DataFrame(scenarios_results).groupby(['Interest Rate', 'Loan Life'])\n",
        "\n",
        "    # Calculate average IRR for each group\n",
        "    for (interest_rate, loan_life), group_data in grouped_scenarios:\n",
        "        average_irr = group_data['Expected IRR'].mean()\n",
        "        above_threshold = \"Yes\" if average_irr > threshold else \"No\"  # Determines if IRR is greater than 5-year treasury yield\n",
        "        avg_irr_results.append({\n",
        "            'Interest Rate': interest_rate,\n",
        "            'Loan Life': loan_life,\n",
        "            'Average IRR': average_irr,\n",
        "            'Issue Loan': above_threshold,\n",
        "        })\n",
        "\n",
        "    avg_irr_df = pd.DataFrame(avg_irr_results)\n",
        "\n",
        "    # Apply conditional formatting to 'Average IRR' column\n",
        "    avg_irr_df_styled = avg_irr_df.style.background_gradient(cmap='RdYlGn', subset=['Average IRR'])\n",
        "\n",
        "    avg_irr_df_styled = avg_irr_df_styled.applymap(lambda x: 'font-weight: bold' if x == 'Yes' else '', subset=['Issue Loan'])\n",
        "\n",
        "    return avg_irr_df, avg_irr_df_styled # returns stylized and unstylized data frame(for use in chart)\n",
        "\n",
        "# Create the stylized data frame:\n",
        "average_irr_df, average_irr_df_styled = calculate_average_irr(df_discrete)\n",
        "\n",
        "average_irr_df_styled"
      ],
      "metadata": {
        "colab": {
          "base_uri": "https://localhost:8080/",
          "height": 360,
          "referenced_widgets": [
            "65e84f5c846a4228a9d1984e6af8e90b",
            "18b8a05e72d847a5b105a903e62e33c1",
            "54f9b141e063442bb6132cb7b461f758",
            "6b0f718fcf1f43348ca21a6b74fcdd8b",
            "4d6680f006f849ccb157e4d582d55688",
            "e2053e06b2d44edaaa51a9c1e6644f7e",
            "abbf5f6117384effa56b26080b4e8c89",
            "eb1fcdacd54e46ea9143fffc9b67b9e0",
            "9370927298ce46bbb39182ea1c74f768",
            "0742bec68c0a46efa5ced28d5b3acbe4",
            "8deeb1c70b1f4d9a86ac6bc22fa871e3"
          ]
        },
        "id": "nft_dDNYg8QE",
        "outputId": "12535fb3-0caa-420c-8ebc-f456f6c1e435"
      },
      "execution_count": null,
      "outputs": [
        {
          "output_type": "display_data",
          "data": {
            "text/plain": [
              "Sumulating Loan Scenarios:   0%|          | 0/9000 [00:00<?, ?it/s]"
            ],
            "application/vnd.jupyter.widget-view+json": {
              "version_major": 2,
              "version_minor": 0,
              "model_id": "65e84f5c846a4228a9d1984e6af8e90b"
            }
          },
          "metadata": {}
        },
        {
          "output_type": "execute_result",
          "data": {
            "text/plain": [
              "<pandas.io.formats.style.Styler at 0x7a6f15962830>"
            ],
            "text/html": [
              "<style type=\"text/css\">\n",
              "#T_09eda_row0_col2 {\n",
              "  background-color: #d93429;\n",
              "  color: #f1f1f1;\n",
              "}\n",
              "#T_09eda_row1_col2 {\n",
              "  background-color: #b71126;\n",
              "  color: #f1f1f1;\n",
              "}\n",
              "#T_09eda_row2_col2 {\n",
              "  background-color: #a50026;\n",
              "  color: #f1f1f1;\n",
              "}\n",
              "#T_09eda_row3_col2 {\n",
              "  background-color: #fff6b0;\n",
              "  color: #000000;\n",
              "}\n",
              "#T_09eda_row4_col2 {\n",
              "  background-color: #e2f397;\n",
              "  color: #000000;\n",
              "}\n",
              "#T_09eda_row4_col3, #T_09eda_row6_col3, #T_09eda_row7_col3, #T_09eda_row8_col3 {\n",
              "  font-weight: bold;\n",
              "}\n",
              "#T_09eda_row5_col2 {\n",
              "  background-color: #fdc776;\n",
              "  color: #000000;\n",
              "}\n",
              "#T_09eda_row6_col2 {\n",
              "  background-color: #36a657;\n",
              "  color: #f1f1f1;\n",
              "}\n",
              "#T_09eda_row7_col2 {\n",
              "  background-color: #4bb05c;\n",
              "  color: #f1f1f1;\n",
              "}\n",
              "#T_09eda_row8_col2 {\n",
              "  background-color: #006837;\n",
              "  color: #f1f1f1;\n",
              "}\n",
              "</style>\n",
              "<table id=\"T_09eda\" class=\"dataframe\">\n",
              "  <thead>\n",
              "    <tr>\n",
              "      <th class=\"blank level0\" >&nbsp;</th>\n",
              "      <th id=\"T_09eda_level0_col0\" class=\"col_heading level0 col0\" >Interest Rate</th>\n",
              "      <th id=\"T_09eda_level0_col1\" class=\"col_heading level0 col1\" >Loan Life</th>\n",
              "      <th id=\"T_09eda_level0_col2\" class=\"col_heading level0 col2\" >Average IRR</th>\n",
              "      <th id=\"T_09eda_level0_col3\" class=\"col_heading level0 col3\" >Issue Loan</th>\n",
              "    </tr>\n",
              "  </thead>\n",
              "  <tbody>\n",
              "    <tr>\n",
              "      <th id=\"T_09eda_level0_row0\" class=\"row_heading level0 row0\" >0</th>\n",
              "      <td id=\"T_09eda_row0_col0\" class=\"data row0 col0\" >0.300000</td>\n",
              "      <td id=\"T_09eda_row0_col1\" class=\"data row0 col1\" >5</td>\n",
              "      <td id=\"T_09eda_row0_col2\" class=\"data row0 col2\" >0.015419</td>\n",
              "      <td id=\"T_09eda_row0_col3\" class=\"data row0 col3\" >No</td>\n",
              "    </tr>\n",
              "    <tr>\n",
              "      <th id=\"T_09eda_level0_row1\" class=\"row_heading level0 row1\" >1</th>\n",
              "      <td id=\"T_09eda_row1_col0\" class=\"data row1 col0\" >0.300000</td>\n",
              "      <td id=\"T_09eda_row1_col1\" class=\"data row1 col1\" >10</td>\n",
              "      <td id=\"T_09eda_row1_col2\" class=\"data row1 col2\" >0.010367</td>\n",
              "      <td id=\"T_09eda_row1_col3\" class=\"data row1 col3\" >No</td>\n",
              "    </tr>\n",
              "    <tr>\n",
              "      <th id=\"T_09eda_level0_row2\" class=\"row_heading level0 row2\" >2</th>\n",
              "      <td id=\"T_09eda_row2_col0\" class=\"data row2 col0\" >0.300000</td>\n",
              "      <td id=\"T_09eda_row2_col1\" class=\"data row2 col1\" >20</td>\n",
              "      <td id=\"T_09eda_row2_col2\" class=\"data row2 col2\" >0.007702</td>\n",
              "      <td id=\"T_09eda_row2_col3\" class=\"data row2 col3\" >No</td>\n",
              "    </tr>\n",
              "    <tr>\n",
              "      <th id=\"T_09eda_level0_row3\" class=\"row_heading level0 row3\" >3</th>\n",
              "      <td id=\"T_09eda_row3_col0\" class=\"data row3 col0\" >0.350000</td>\n",
              "      <td id=\"T_09eda_row3_col1\" class=\"data row3 col1\" >5</td>\n",
              "      <td id=\"T_09eda_row3_col2\" class=\"data row3 col2\" >0.041981</td>\n",
              "      <td id=\"T_09eda_row3_col3\" class=\"data row3 col3\" >No</td>\n",
              "    </tr>\n",
              "    <tr>\n",
              "      <th id=\"T_09eda_level0_row4\" class=\"row_heading level0 row4\" >4</th>\n",
              "      <td id=\"T_09eda_row4_col0\" class=\"data row4 col0\" >0.350000</td>\n",
              "      <td id=\"T_09eda_row4_col1\" class=\"data row4 col1\" >10</td>\n",
              "      <td id=\"T_09eda_row4_col2\" class=\"data row4 col2\" >0.049794</td>\n",
              "      <td id=\"T_09eda_row4_col3\" class=\"data row4 col3\" >Yes</td>\n",
              "    </tr>\n",
              "    <tr>\n",
              "      <th id=\"T_09eda_level0_row5\" class=\"row_heading level0 row5\" >5</th>\n",
              "      <td id=\"T_09eda_row5_col0\" class=\"data row5 col0\" >0.350000</td>\n",
              "      <td id=\"T_09eda_row5_col1\" class=\"data row5 col1\" >20</td>\n",
              "      <td id=\"T_09eda_row5_col2\" class=\"data row5 col2\" >0.033283</td>\n",
              "      <td id=\"T_09eda_row5_col3\" class=\"data row5 col3\" >No</td>\n",
              "    </tr>\n",
              "    <tr>\n",
              "      <th id=\"T_09eda_level0_row6\" class=\"row_heading level0 row6\" >6</th>\n",
              "      <td id=\"T_09eda_row6_col0\" class=\"data row6 col0\" >0.400000</td>\n",
              "      <td id=\"T_09eda_row6_col1\" class=\"data row6 col1\" >5</td>\n",
              "      <td id=\"T_09eda_row6_col2\" class=\"data row6 col2\" >0.070507</td>\n",
              "      <td id=\"T_09eda_row6_col3\" class=\"data row6 col3\" >Yes</td>\n",
              "    </tr>\n",
              "    <tr>\n",
              "      <th id=\"T_09eda_level0_row7\" class=\"row_heading level0 row7\" >7</th>\n",
              "      <td id=\"T_09eda_row7_col0\" class=\"data row7 col0\" >0.400000</td>\n",
              "      <td id=\"T_09eda_row7_col1\" class=\"data row7 col1\" >10</td>\n",
              "      <td id=\"T_09eda_row7_col2\" class=\"data row7 col2\" >0.068506</td>\n",
              "      <td id=\"T_09eda_row7_col3\" class=\"data row7 col3\" >Yes</td>\n",
              "    </tr>\n",
              "    <tr>\n",
              "      <th id=\"T_09eda_level0_row8\" class=\"row_heading level0 row8\" >8</th>\n",
              "      <td id=\"T_09eda_row8_col0\" class=\"data row8 col0\" >0.400000</td>\n",
              "      <td id=\"T_09eda_row8_col1\" class=\"data row8 col1\" >20</td>\n",
              "      <td id=\"T_09eda_row8_col2\" class=\"data row8 col2\" >0.080666</td>\n",
              "      <td id=\"T_09eda_row8_col3\" class=\"data row8 col3\" >Yes</td>\n",
              "    </tr>\n",
              "  </tbody>\n",
              "</table>\n"
            ]
          },
          "metadata": {},
          "execution_count": 64
        }
      ]
    },
    {
      "cell_type": "code",
      "source": [
        "# Create clustered bar chart\n",
        "def create_clustered_bar_chart(dataframe):\n",
        "    # Sort the columns by 'Loan Life' in ascending order\n",
        "    sorted_columns = sorted(dataframe['Interest Rate'].unique())\n",
        "\n",
        "    # Pivot the DataFrame for better plotting\n",
        "    pivot_df = dataframe.pivot(index='Loan Life', columns='Interest Rate', values='Average IRR')\n",
        "\n",
        "    # Reorder the columns based on the sorted order\n",
        "    pivot_df = pivot_df[sorted_columns]\n",
        "\n",
        "    ax = pivot_df.plot(\n",
        "        kind='bar',\n",
        "        title='Average IRR by Interest Rate and Loan Life',\n",
        "        colormap='Paired',\n",
        "        xlabel='Loan Life',\n",
        "        ylabel='Average IRR',\n",
        "    )\n",
        "\n",
        "    ax.legend(title='Interest Rate', bbox_to_anchor=(1, 1))\n",
        "    plt.show()\n",
        "\n",
        "create_clustered_bar_chart(average_irr_df)\n"
      ],
      "metadata": {
        "colab": {
          "base_uri": "https://localhost:8080/",
          "height": 475
        },
        "id": "QA8rqJDIuero",
        "outputId": "b0575de0-4c44-4725-8e84-acde65bf2eca"
      },
      "execution_count": null,
      "outputs": [
        {
          "output_type": "display_data",
          "data": {
            "text/plain": [
              "<Figure size 640x480 with 1 Axes>"
            ],
            "image/png": "[encoded data removed]"
          },
          "metadata": {}
        }
      ]
    },
    {
      "cell_type": "markdown",
      "source": [
        "## Recommendation\n",
        "\n",
        "The bank should only make the loan when the IRR is greater than their discount rate. This model uses the 5 year treasury yield as a default discount rate. The bank should only issue loans when the \"issue loans\" column in the above table indicates \"Yes.\"\n",
        "\n",
        "In general, loans with a longer life and loans with a higher interest rate have greater IRR\n"
      ],
      "metadata": {
        "id": "kYSDKF_lDKRW"
      }
    }
  ],
  "metadata": {
    "kernelspec": {
      "display_name": "Python 3",
      "language": "python",
      "name": "python3"
    },
    "language_info": {
      "codemirror_mode": {
        "name": "ipython",
        "version": 3
      },
      "file_extension": ".py",
      "mimetype": "text/x-python",
      "name": "python",
      "nbconvert_exporter": "python",
      "pygments_lexer": "ipython3",
      "version": "3.7.4"
    },
    "colab": {
      "provenance": [],
      "collapsed_sections": [
        "DEs_8nukky5B",
        "JAn0hlH9ky5D",
        "yP2V_cf92VDN"
      ]
    },
    "widgets": {
      "application/vnd.jupyter.widget-state+json": {
        "65e84f5c846a4228a9d1984e6af8e90b": {
          "model_module": "@jupyter-widgets/controls",
          "model_name": "HBoxModel",
          "model_module_version": "1.5.0",
          "state": {
            "_dom_classes": [],
            "_model_module": "@jupyter-widgets/controls",
            "_model_module_version": "1.5.0",
            "_model_name": "HBoxModel",
            "_view_count": null,
            "_view_module": "@jupyter-widgets/controls",
            "_view_module_version": "1.5.0",
            "_view_name": "HBoxView",
            "box_style": "",
            "children": [
              "IPY_MODEL_18b8a05e72d847a5b105a903e62e33c1",
              "IPY_MODEL_54f9b141e063442bb6132cb7b461f758",
              "IPY_MODEL_6b0f718fcf1f43348ca21a6b74fcdd8b"
            ],
            "layout": "IPY_MODEL_4d6680f006f849ccb157e4d582d55688"
          }
        },
        "18b8a05e72d847a5b105a903e62e33c1": {
          "model_module": "@jupyter-widgets/controls",
          "model_name": "HTMLModel",
          "model_module_version": "1.5.0",
          "state": {
            "_dom_classes": [],
            "_model_module": "@jupyter-widgets/controls",
            "_model_module_version": "1.5.0",
            "_model_name": "HTMLModel",
            "_view_count": null,
            "_view_module": "@jupyter-widgets/controls",
            "_view_module_version": "1.5.0",
            "_view_name": "HTMLView",
            "description": "",
            "description_tooltip": null,
            "layout": "IPY_MODEL_e2053e06b2d44edaaa51a9c1e6644f7e",
            "placeholder": "​",
            "style": "IPY_MODEL_abbf5f6117384effa56b26080b4e8c89",
            "value": "Sumulating Loan Scenarios: 100%"
          }
        },
        "54f9b141e063442bb6132cb7b461f758": {
          "model_module": "@jupyter-widgets/controls",
          "model_name": "FloatProgressModel",
          "model_module_version": "1.5.0",
          "state": {
            "_dom_classes": [],
            "_model_module": "@jupyter-widgets/controls",
            "_model_module_version": "1.5.0",
            "_model_name": "FloatProgressModel",
            "_view_count": null,
            "_view_module": "@jupyter-widgets/controls",
            "_view_module_version": "1.5.0",
            "_view_name": "ProgressView",
            "bar_style": "success",
            "description": "",
            "description_tooltip": null,
            "layout": "IPY_MODEL_eb1fcdacd54e46ea9143fffc9b67b9e0",
            "max": 9000,
            "min": 0,
            "orientation": "horizontal",
            "style": "IPY_MODEL_9370927298ce46bbb39182ea1c74f768",
            "value": 9000
          }
        },
        "6b0f718fcf1f43348ca21a6b74fcdd8b": {
          "model_module": "@jupyter-widgets/controls",
          "model_name": "HTMLModel",
          "model_module_version": "1.5.0",
          "state": {
            "_dom_classes": [],
            "_model_module": "@jupyter-widgets/controls",
            "_model_module_version": "1.5.0",
            "_model_name": "HTMLModel",
            "_view_count": null,
            "_view_module": "@jupyter-widgets/controls",
            "_view_module_version": "1.5.0",
            "_view_name": "HTMLView",
            "description": "",
            "description_tooltip": null,
            "layout": "IPY_MODEL_0742bec68c0a46efa5ced28d5b3acbe4",
            "placeholder": "​",
            "style": "IPY_MODEL_8deeb1c70b1f4d9a86ac6bc22fa871e3",
            "value": " 9000/9000 [00:01&lt;00:00, 5367.74it/s]"
          }
        },
        "4d6680f006f849ccb157e4d582d55688": {
          "model_module": "@jupyter-widgets/base",
          "model_name": "LayoutModel",
          "model_module_version": "1.2.0",
          "state": {
            "_model_module": "@jupyter-widgets/base",
            "_model_module_version": "1.2.0",
            "_model_name": "LayoutModel",
            "_view_count": null,
            "_view_module": "@jupyter-widgets/base",
            "_view_module_version": "1.2.0",
            "_view_name": "LayoutView",
            "align_content": null,
            "align_items": null,
            "align_self": null,
            "border": null,
            "bottom": null,
            "display": null,
            "flex": null,
            "flex_flow": null,
            "grid_area": null,
            "grid_auto_columns": null,
            "grid_auto_flow": null,
            "grid_auto_rows": null,
            "grid_column": null,
            "grid_gap": null,
            "grid_row": null,
            "grid_template_areas": null,
            "grid_template_columns": null,
            "grid_template_rows": null,
            "height": null,
            "justify_content": null,
            "justify_items": null,
            "left": null,
            "margin": null,
            "max_height": null,
            "max_width": null,
            "min_height": null,
            "min_width": null,
            "object_fit": null,
            "object_position": null,
            "order": null,
            "overflow": null,
            "overflow_x": null,
            "overflow_y": null,
            "padding": null,
            "right": null,
            "top": null,
            "visibility": null,
            "width": null
          }
        },
        "e2053e06b2d44edaaa51a9c1e6644f7e": {
          "model_module": "@jupyter-widgets/base",
          "model_name": "LayoutModel",
          "model_module_version": "1.2.0",
          "state": {
            "_model_module": "@jupyter-widgets/base",
            "_model_module_version": "1.2.0",
            "_model_name": "LayoutModel",
            "_view_count": null,
            "_view_module": "@jupyter-widgets/base",
            "_view_module_version": "1.2.0",
            "_view_name": "LayoutView",
            "align_content": null,
            "align_items": null,
            "align_self": null,
            "border": null,
            "bottom": null,
            "display": null,
            "flex": null,
            "flex_flow": null,
            "grid_area": null,
            "grid_auto_columns": null,
            "grid_auto_flow": null,
            "grid_auto_rows": null,
            "grid_column": null,
            "grid_gap": null,
            "grid_row": null,
            "grid_template_areas": null,
            "grid_template_columns": null,
            "grid_template_rows": null,
            "height": null,
            "justify_content": null,
            "justify_items": null,
            "left": null,
            "margin": null,
            "max_height": null,
            "max_width": null,
            "min_height": null,
            "min_width": null,
            "object_fit": null,
            "object_position": null,
            "order": null,
            "overflow": null,
            "overflow_x": null,
            "overflow_y": null,
            "padding": null,
            "right": null,
            "top": null,
            "visibility": null,
            "width": null
          }
        },
        "abbf5f6117384effa56b26080b4e8c89": {
          "model_module": "@jupyter-widgets/controls",
          "model_name": "DescriptionStyleModel",
          "model_module_version": "1.5.0",
          "state": {
            "_model_module": "@jupyter-widgets/controls",
            "_model_module_version": "1.5.0",
            "_model_name": "DescriptionStyleModel",
            "_view_count": null,
            "_view_module": "@jupyter-widgets/base",
            "_view_module_version": "1.2.0",
            "_view_name": "StyleView",
            "description_width": ""
          }
        },
        "eb1fcdacd54e46ea9143fffc9b67b9e0": {
          "model_module": "@jupyter-widgets/base",
          "model_name": "LayoutModel",
          "model_module_version": "1.2.0",
          "state": {
            "_model_module": "@jupyter-widgets/base",
            "_model_module_version": "1.2.0",
            "_model_name": "LayoutModel",
            "_view_count": null,
            "_view_module": "@jupyter-widgets/base",
            "_view_module_version": "1.2.0",
            "_view_name": "LayoutView",
            "align_content": null,
            "align_items": null,
            "align_self": null,
            "border": null,
            "bottom": null,
            "display": null,
            "flex": null,
            "flex_flow": null,
            "grid_area": null,
            "grid_auto_columns": null,
            "grid_auto_flow": null,
            "grid_auto_rows": null,
            "grid_column": null,
            "grid_gap": null,
            "grid_row": null,
            "grid_template_areas": null,
            "grid_template_columns": null,
            "grid_template_rows": null,
            "height": null,
            "justify_content": null,
            "justify_items": null,
            "left": null,
            "margin": null,
            "max_height": null,
            "max_width": null,
            "min_height": null,
            "min_width": null,
            "object_fit": null,
            "object_position": null,
            "order": null,
            "overflow": null,
            "overflow_x": null,
            "overflow_y": null,
            "padding": null,
            "right": null,
            "top": null,
            "visibility": null,
            "width": null
          }
        },
        "9370927298ce46bbb39182ea1c74f768": {
          "model_module": "@jupyter-widgets/controls",
          "model_name": "ProgressStyleModel",
          "model_module_version": "1.5.0",
          "state": {
            "_model_module": "@jupyter-widgets/controls",
            "_model_module_version": "1.5.0",
            "_model_name": "ProgressStyleModel",
            "_view_count": null,
            "_view_module": "@jupyter-widgets/base",
            "_view_module_version": "1.2.0",
            "_view_name": "StyleView",
            "bar_color": null,
            "description_width": ""
          }
        },
        "0742bec68c0a46efa5ced28d5b3acbe4": {
          "model_module": "@jupyter-widgets/base",
          "model_name": "LayoutModel",
          "model_module_version": "1.2.0",
          "state": {
            "_model_module": "@jupyter-widgets/base",
            "_model_module_version": "1.2.0",
            "_model_name": "LayoutModel",
            "_view_count": null,
            "_view_module": "@jupyter-widgets/base",
            "_view_module_version": "1.2.0",
            "_view_name": "LayoutView",
            "align_content": null,
            "align_items": null,
            "align_self": null,
            "border": null,
            "bottom": null,
            "display": null,
            "flex": null,
            "flex_flow": null,
            "grid_area": null,
            "grid_auto_columns": null,
            "grid_auto_flow": null,
            "grid_auto_rows": null,
            "grid_column": null,
            "grid_gap": null,
            "grid_row": null,
            "grid_template_areas": null,
            "grid_template_columns": null,
            "grid_template_rows": null,
            "height": null,
            "justify_content": null,
            "justify_items": null,
            "left": null,
            "margin": null,
            "max_height": null,
            "max_width": null,
            "min_height": null,
            "min_width": null,
            "object_fit": null,
            "object_position": null,
            "order": null,
            "overflow": null,
            "overflow_x": null,
            "overflow_y": null,
            "padding": null,
            "right": null,
            "top": null,
            "visibility": null,
            "width": null
          }
        },
        "8deeb1c70b1f4d9a86ac6bc22fa871e3": {
          "model_module": "@jupyter-widgets/controls",
          "model_name": "DescriptionStyleModel",
          "model_module_version": "1.5.0",
          "state": {
            "_model_module": "@jupyter-widgets/controls",
            "_model_module_version": "1.5.0",
            "_model_name": "DescriptionStyleModel",
            "_view_count": null,
            "_view_module": "@jupyter-widgets/base",
            "_view_module_version": "1.2.0",
            "_view_name": "StyleView",
            "description_width": ""
          }
        }
      }
    }
  },
  "nbformat": 4,
  "nbformat_minor": 0
}